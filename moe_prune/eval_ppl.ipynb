{
 "cells": [
  {
   "cell_type": "code",
   "execution_count": 2,
   "metadata": {},
   "outputs": [],
   "source": [
    "import json\n",
    "import pandas\n",
    "import os"
   ]
  },
  {
   "cell_type": "code",
   "execution_count": 4,
   "metadata": {},
   "outputs": [
    {
     "data": {
      "text/plain": [
       "['openmoe-8b_pruneLayer3_expert[7, 20, 17, 15, 29, 18, 6, 12, 3, 5, 31, 30, 9, 4, 24, 11, 13, 28, 26, 25, 21, 14, 16, 22, 27, 23, 2, 10, 19, 8, 0, 1].json',\n",
       " 'openmoe-8b_pruneLayer3_expert[7, 20, 17, 15].json',\n",
       " 'openmoe-8b_pruneLayer1_expert[19, 12, 7, 25, 3, 13, 23, 18, 5, 10, 26, 29, 24, 21, 6, 27].json',\n",
       " 'openmoe-8b_pruneLayer-1_expert[0, 1].json',\n",
       " 'openmoe-8b_pruneLayer1_expert[19, 12, 7, 25, 3, 13, 23, 18].json',\n",
       " 'openmoe-8b_pruneLayer3_expert[7, 20, 17, 15, 29, 18, 6, 12, 3, 5, 31, 30, 9, 4, 24, 11].json',\n",
       " 'openmoe-8b_pruneLayer1_expert[19, 12].json',\n",
       " 'openmoe-8b_pruneLayer3_expert[7].json',\n",
       " 'openmoe-8b_pruneLayer1_expert[19, 12, 7, 25].json',\n",
       " 'openmoe-8b_pruneLayer1_expert[19].json',\n",
       " 'openmoe-8b_pruneLayer3_expert[7, 20].json',\n",
       " 'openmoe-8b_pruneLayer3_expert[7, 20, 17, 15, 29, 18, 6, 12, 3, 5, 31, 30, 9, 4, 24, 11, 13, 28, 26, 25, 21, 14, 16, 22, 27, 23, 2, 10, 19, 8].json',\n",
       " 'openmoe-8b_pruneLayer1_expert[19, 12, 7, 25, 3, 13, 23, 18, 5, 10, 26, 29, 24, 21, 6, 27, 15, 28, 8, 22, 4, 20, 11, 17, 31, 30, 9, 2, 16, 14, 0, 1].json',\n",
       " 'openmoe-8b_pruneLayer1_expert[19, 12, 7, 25, 3, 13, 23, 18, 5, 10, 26, 29, 24, 21, 6, 27, 15, 28, 8, 22, 4, 20, 11, 17, 31, 30, 9, 2, 16, 14].json',\n",
       " 'openmoe-8b_pruneLayer3_expert[7, 20, 17, 15, 29, 18, 6, 12].json']"
      ]
     },
     "execution_count": 4,
     "metadata": {},
     "output_type": "execute_result"
    }
   ],
   "source": [
    "path = \"./dataset/mt_bench_output_0516/mt_bench_output\"\n",
    "files = os.listdir(path)\n",
    "files"
   ]
  },
  {
   "cell_type": "code",
   "execution_count": 10,
   "metadata": {},
   "outputs": [
    {
     "name": "stdout",
     "output_type": "stream",
     "text": [
      "openmoe-8b_pruneLayer-1_expert[0, 1].json\n",
      "18.02799742254944\n",
      "openmoe-8b_pruneLayer1_expert[19, 12, 7, 25, 3, 13, 23, 18, 5, 10, 26, 29, 24, 21, 6, 27, 15, 28, 8, 22, 4, 20, 11, 17, 31, 30, 9, 2, 16, 14, 0, 1].json\n",
      "18.077898594530776\n",
      "openmoe-8b_pruneLayer1_expert[19, 12, 7, 25, 3, 13, 23, 18, 5, 10, 26, 29, 24, 21, 6, 27, 15, 28, 8, 22, 4, 20, 11, 17, 31, 30, 9, 2, 16, 14].json\n",
      "18.08352315133287\n",
      "openmoe-8b_pruneLayer1_expert[19, 12, 7, 25, 3, 13, 23, 18, 5, 10, 26, 29, 24, 21, 6, 27].json\n",
      "18.083602842678857\n",
      "openmoe-8b_pruneLayer1_expert[19, 12, 7, 25, 3, 13, 23, 18].json\n",
      "18.089521763993133\n",
      "openmoe-8b_pruneLayer1_expert[19, 12, 7, 25].json\n",
      "18.07595027760173\n",
      "openmoe-8b_pruneLayer1_expert[19, 12].json\n",
      "18.086651826420056\n",
      "openmoe-8b_pruneLayer1_expert[19].json\n",
      "18.125546059472963\n",
      "openmoe-8b_pruneLayer3_expert[7, 20, 17, 15, 29, 18, 6, 12, 3, 5, 31, 30, 9, 4, 24, 11, 13, 28, 26, 25, 21, 14, 16, 22, 27, 23, 2, 10, 19, 8, 0, 1].json\n",
      "18.76644691694631\n",
      "openmoe-8b_pruneLayer3_expert[7, 20, 17, 15, 29, 18, 6, 12, 3, 5, 31, 30, 9, 4, 24, 11, 13, 28, 26, 25, 21, 14, 16, 22, 27, 23, 2, 10, 19, 8].json\n",
      "18.783821254469476\n",
      "openmoe-8b_pruneLayer3_expert[7, 20, 17, 15, 29, 18, 6, 12, 3, 5, 31, 30, 9, 4, 24, 11].json\n",
      "17.922384960646575\n",
      "openmoe-8b_pruneLayer3_expert[7, 20, 17, 15, 29, 18, 6, 12].json\n",
      "17.93328732775103\n",
      "openmoe-8b_pruneLayer3_expert[7, 20, 17, 15].json\n",
      "17.992284212305943\n",
      "openmoe-8b_pruneLayer3_expert[7, 20].json\n",
      "18.03789544591971\n",
      "openmoe-8b_pruneLayer3_expert[7].json\n",
      "18.14911447222281\n"
     ]
    }
   ],
   "source": [
    "import math\n",
    "files.sort()\n",
    "for file in files:\n",
    "    true_file = os.path.join(path, file)\n",
    "    print(file)\n",
    "    dic = json.load(open(true_file, \"r\"))\n",
    "    ppl = dic[\"mean_ppl\"]\n",
    "    loss = math.log2(ppl)\n",
    "    print(loss)"
   ]
  },
  {
   "cell_type": "code",
   "execution_count": null,
   "metadata": {},
   "outputs": [],
   "source": []
  }
 ],
 "metadata": {
  "kernelspec": {
   "display_name": "base",
   "language": "python",
   "name": "python3"
  },
  "language_info": {
   "codemirror_mode": {
    "name": "ipython",
    "version": 3
   },
   "file_extension": ".py",
   "mimetype": "text/x-python",
   "name": "python",
   "nbconvert_exporter": "python",
   "pygments_lexer": "ipython3",
   "version": "3.9.7"
  }
 },
 "nbformat": 4,
 "nbformat_minor": 2
}
