{
 "cells": [
  {
   "cell_type": "code",
   "execution_count": null,
   "metadata": {},
   "outputs": [],
   "source": [
    "from transformers import AutoModelForCausalLM, AutoTokenizer"
   ]
  },
  {
   "cell_type": "code",
   "execution_count": null,
   "metadata": {},
   "outputs": [],
   "source": [
    "import importlib.util; print(importlib.util.find_spec('transformers').origin)\n"
   ]
  },
  {
   "cell_type": "code",
   "execution_count": null,
   "metadata": {},
   "outputs": [],
   "source": [
    "import pickle\n",
    "# l1_result_bf16 = pickle.load(open(\"./qw2.7B.l1.bf16.pkl\", \"rb\"))\n",
    "l1_result_fp32 = pickle.load(open(\"./deepseek.l1.fp32.pkl\", \"rb\"))"
   ]
  },
  {
   "cell_type": "code",
   "execution_count": null,
   "metadata": {},
   "outputs": [],
   "source": [
    "l1_result_fp32.keys()"
   ]
  },
  {
   "cell_type": "code",
   "execution_count": null,
   "metadata": {},
   "outputs": [],
   "source": [
    "values = []\n",
    "for key, value in l1_result_fp32.items():\n",
    "    values.append((key[0], key[1], key[2], value))\n",
    "import pandas as pd\n",
    "df = pd.DataFrame(values, columns=[\"layer\", \"expert\", \"var\", \"l1\"])\n",
    "df"
   ]
  },
  {
   "cell_type": "code",
   "execution_count": null,
   "metadata": {},
   "outputs": [],
   "source": [
    "df = df[df[\"var\"]==\"down\"]\n",
    "expert_order_output = []\n",
    "for layer_id in range(27):\n",
    "    print(\"layer {}\".format(layer_id))\n",
    "    tmp_df = df[df[\"layer\"]==layer_id]\n",
    "    tmp_df = tmp_df.sort_values(\"l1\")  # l1 小到大\n",
    "    expert_idxs = list(tmp_df[\"expert\"])\n",
    "    l1_list = list(tmp_df[\"l1\"])\n",
    "    print(expert_idxs)\n",
    "    print(l1_list)\n",
    "    print(\"min l1 {}; max l1 {}\".format(min(l1_list), max(l1_list)))\n",
    "    expert_order_output.append(expert_idxs)"
   ]
  },
  {
   "cell_type": "code",
   "execution_count": null,
   "metadata": {},
   "outputs": [],
   "source": [
    "layer_idx_to_expert_idx = {}\n",
    "for i, expert_idxs in enumerate(expert_order_output):\n",
    "    layer_idx_to_expert_idx[i] = expert_idxs\n",
    "print(layer_idx_to_expert_idx)\n",
    "import json\n",
    "json.dump(layer_idx_to_expert_idx, open(\"./layer_idx_to_expert_idx.json\", 'w'))"
   ]
  },
  {
   "cell_type": "markdown",
   "metadata": {},
   "source": [
    "alpha"
   ]
  },
  {
   "cell_type": "code",
   "execution_count": null,
   "metadata": {},
   "outputs": [],
   "source": [
    "import json\n",
    "layer_to_alpha = json.load(open(\"data/layer_idx_to_alpha_list.json\", 'r'))\n",
    "layer_to_alpha2 = json.load(open(\"data/layer_idx_to_alpha_list (1).json\", 'r'))"
   ]
  },
  {
   "cell_type": "code",
   "execution_count": null,
   "metadata": {},
   "outputs": [],
   "source": [
    "layer_idx_to_expert_idx_alpha = {}\n",
    "for layer_idx in layer_to_alpha:\n",
    "    alphas = layer_to_alpha[layer_idx] + layer_to_alpha2[layer_idx]\n",
    "    expert_idx_with_alpha = list(enumerate(alphas))\n",
    "    expert_idx_with_alpha = sorted(expert_idx_with_alpha, key=lambda x: x[1], reverse=True) # alpha大到小\n",
    "    print(expert_idx_with_alpha)\n",
    "    expert_idx_list = list(map(lambda x: x[0], expert_idx_with_alpha))\n",
    "    # print(expert_idx_list)\n",
    "    layer_idx_to_expert_idx_alpha[layer_idx] = expert_idx_list\n",
    "layer_idx_to_expert_idx_alpha"
   ]
  },
  {
   "cell_type": "code",
   "execution_count": null,
   "metadata": {},
   "outputs": [],
   "source": [
    "json.dump(layer_idx_to_expert_idx_alpha, open(\"layer_idx_to_expert_idx.alpha.json\", 'w'))"
   ]
  },
  {
   "cell_type": "markdown",
   "metadata": {},
   "source": [
    "route ana"
   ]
  },
  {
   "cell_type": "code",
   "execution_count": null,
   "metadata": {},
   "outputs": [],
   "source": [
    "with open(\"route_ana.result\", 'r') as f:\n",
    "    content = f.read()\n",
    "tmp = eval(content)"
   ]
  },
  {
   "cell_type": "code",
   "execution_count": null,
   "metadata": {},
   "outputs": [],
   "source": [
    "import pandas as pd\n",
    "df = pd.DataFrame(index=list(range(32)), columns=range(64))\n",
    "\n",
    "# 将数据填充到DataFrame中\n",
    "for key, value in tmp.items():\n",
    "    row, col = key[0], key[1]\n",
    "    df.at[row, col] = value\n",
    "\n",
    "# 将NaN值替换为0（如果需要）\n",
    "df.fillna(0, inplace=True)\n",
    "df.to_excel(\"route_ana.xlsx\")"
   ]
  },
  {
   "cell_type": "code",
   "execution_count": null,
   "metadata": {},
   "outputs": [],
   "source": []
  }
 ],
 "metadata": {
  "kernelspec": {
   "display_name": "base",
   "language": "python",
   "name": "python3"
  },
  "language_info": {
   "codemirror_mode": {
    "name": "ipython",
    "version": 3
   },
   "file_extension": ".py",
   "mimetype": "text/x-python",
   "name": "python",
   "nbconvert_exporter": "python",
   "pygments_lexer": "ipython3",
   "version": "3.9.7"
  }
 },
 "nbformat": 4,
 "nbformat_minor": 2
}
